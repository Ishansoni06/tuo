{
  "nbformat": 4,
  "nbformat_minor": 0,
  "metadata": {
    "colab": {
      "provenance": [],
      "gpuType": "T4",
      "authorship_tag": "ABX9TyN8DEImB9NnOO9dIudC31Cm",
      "include_colab_link": true
    },
    "kernelspec": {
      "name": "python3",
      "display_name": "Python 3"
    },
    "language_info": {
      "name": "python"
    },
    "accelerator": "GPU"
  },
  "cells": [
    {
      "cell_type": "markdown",
      "metadata": {
        "id": "view-in-github",
        "colab_type": "text"
      },
      "source": [
        "<a href=\"https://colab.research.google.com/github/Ishansoni06/tuo/blob/main/machinelearning.ipynb\" target=\"_parent\"><img src=\"https://colab.research.google.com/assets/colab-badge.svg\" alt=\"Open In Colab\"/></a>"
      ]
    },
    {
      "cell_type": "code",
      "source": [],
      "metadata": {
        "id": "Lb1lH1dCOEZ3"
      },
      "execution_count": 81,
      "outputs": []
    },
    {
      "cell_type": "code",
      "execution_count": 82,
      "metadata": {
        "colab": {
          "base_uri": "https://localhost:8080/"
        },
        "id": "nz25gOqdNPHx",
        "outputId": "f86f84ea-3541-48cd-844c-919ab1ed39eb"
      },
      "outputs": [
        {
          "output_type": "stream",
          "name": "stdout",
          "text": [
            "hello , i am learning pytorch !!\n"
          ]
        }
      ],
      "source": [
        "print(\"hello , i am learning pytorch !!\")"
      ]
    },
    {
      "cell_type": "code",
      "source": [
        "import torch\n",
        "print(torch.__version__)"
      ],
      "metadata": {
        "colab": {
          "base_uri": "https://localhost:8080/"
        },
        "id": "jcXyytdZNa_X",
        "outputId": "26fb1855-ca4f-4861-dbcc-3b8ebcd9ebe8"
      },
      "execution_count": 83,
      "outputs": [
        {
          "output_type": "stream",
          "name": "stdout",
          "text": [
            "2.6.0+cu124\n"
          ]
        }
      ]
    },
    {
      "cell_type": "code",
      "source": [
        "## Introduction to Tensor\n",
        "## creating tensors\n"
      ],
      "metadata": {
        "id": "D8YRR5sSOzVB"
      },
      "execution_count": 84,
      "outputs": []
    },
    {
      "cell_type": "code",
      "source": [
        "#scalar\n",
        "scala = torch.tensor(7)\n",
        "scala"
      ],
      "metadata": {
        "colab": {
          "base_uri": "https://localhost:8080/"
        },
        "id": "Ec_yv7qhPy3y",
        "outputId": "9b4f1183-82ac-446e-b16d-cc5876465ccc"
      },
      "execution_count": 85,
      "outputs": [
        {
          "output_type": "execute_result",
          "data": {
            "text/plain": [
              "tensor(7)"
            ]
          },
          "metadata": {},
          "execution_count": 85
        }
      ]
    },
    {
      "cell_type": "code",
      "source": [
        "#vector\n",
        "vector = torch.tensor([7,7])\n",
        "vector"
      ],
      "metadata": {
        "colab": {
          "base_uri": "https://localhost:8080/"
        },
        "id": "vOvqsdwoQHfN",
        "outputId": "027112a3-d37b-4e37-a8df-f4e4e5fd54a2"
      },
      "execution_count": 86,
      "outputs": [
        {
          "output_type": "execute_result",
          "data": {
            "text/plain": [
              "tensor([7, 7])"
            ]
          },
          "metadata": {},
          "execution_count": 86
        }
      ]
    },
    {
      "cell_type": "code",
      "source": [
        "vector.ndim"
      ],
      "metadata": {
        "colab": {
          "base_uri": "https://localhost:8080/"
        },
        "id": "fpzz0I_WQMeT",
        "outputId": "f91abc6f-d476-48f9-a190-355ea2935de2"
      },
      "execution_count": 87,
      "outputs": [
        {
          "output_type": "execute_result",
          "data": {
            "text/plain": [
              "1"
            ]
          },
          "metadata": {},
          "execution_count": 87
        }
      ]
    },
    {
      "cell_type": "code",
      "source": [
        "#matrix\n",
        "matrix = torch.tensor([[7,8],[9,10]])\n",
        "matrix"
      ],
      "metadata": {
        "colab": {
          "base_uri": "https://localhost:8080/"
        },
        "id": "ef-y53S5QQBs",
        "outputId": "385cddbf-1101-4749-b5e6-1cab8fc0d749"
      },
      "execution_count": 88,
      "outputs": [
        {
          "output_type": "execute_result",
          "data": {
            "text/plain": [
              "tensor([[ 7,  8],\n",
              "        [ 9, 10]])"
            ]
          },
          "metadata": {},
          "execution_count": 88
        }
      ]
    },
    {
      "cell_type": "code",
      "source": [
        "matrix.shape"
      ],
      "metadata": {
        "colab": {
          "base_uri": "https://localhost:8080/"
        },
        "id": "NQJvK1nkQmxU",
        "outputId": "466dce14-5265-4a6e-dc43-bd609ea0569d"
      },
      "execution_count": 89,
      "outputs": [
        {
          "output_type": "execute_result",
          "data": {
            "text/plain": [
              "torch.Size([2, 2])"
            ]
          },
          "metadata": {},
          "execution_count": 89
        }
      ]
    },
    {
      "cell_type": "code",
      "source": [
        "tensor = torch.tensor([[[7,9,8]]])\n",
        "tensor.ndim"
      ],
      "metadata": {
        "colab": {
          "base_uri": "https://localhost:8080/"
        },
        "id": "Q5FajeTqQn1o",
        "outputId": "3d2755bb-6fc3-4e31-ca84-08df5f4b0cfc"
      },
      "execution_count": 90,
      "outputs": [
        {
          "output_type": "execute_result",
          "data": {
            "text/plain": [
              "3"
            ]
          },
          "metadata": {},
          "execution_count": 90
        }
      ]
    },
    {
      "cell_type": "code",
      "source": [
        "tensor.shape"
      ],
      "metadata": {
        "colab": {
          "base_uri": "https://localhost:8080/"
        },
        "id": "v7kBJl1EQ3c-",
        "outputId": "537daf0a-3680-470a-8c2c-0bc901323b06"
      },
      "execution_count": 91,
      "outputs": [
        {
          "output_type": "execute_result",
          "data": {
            "text/plain": [
              "torch.Size([1, 1, 3])"
            ]
          },
          "metadata": {},
          "execution_count": 91
        }
      ]
    },
    {
      "cell_type": "markdown",
      "source": [
        "### Random Tensors"
      ],
      "metadata": {
        "id": "GeN_FNikR3lr"
      }
    },
    {
      "cell_type": "code",
      "source": [
        "random_tensor = torch.rand(3,4)\n",
        "random_tensor"
      ],
      "metadata": {
        "colab": {
          "base_uri": "https://localhost:8080/",
          "height": 158
        },
        "id": "ht5YPe2ASOHB",
        "outputId": "9444c74d-cd3a-4427-cbe3-893f0e85aeee"
      },
      "execution_count": 92,
      "outputs": [
        {
          "output_type": "error",
          "ename": "TypeError",
          "evalue": "'Tensor' object is not callable",
          "traceback": [
            "\u001b[0;31m---------------------------------------------------------------------------\u001b[0m",
            "\u001b[0;31mTypeError\u001b[0m                                 Traceback (most recent call last)",
            "\u001b[0;32m/tmp/ipython-input-92-1715615136.py\u001b[0m in \u001b[0;36m<cell line: 0>\u001b[0;34m()\u001b[0m\n\u001b[0;32m----> 1\u001b[0;31m \u001b[0mrandom_tensor\u001b[0m \u001b[0;34m=\u001b[0m \u001b[0mtorch\u001b[0m\u001b[0;34m.\u001b[0m\u001b[0mrand\u001b[0m\u001b[0;34m(\u001b[0m\u001b[0;36m3\u001b[0m\u001b[0;34m,\u001b[0m\u001b[0;36m4\u001b[0m\u001b[0;34m)\u001b[0m\u001b[0;34m\u001b[0m\u001b[0;34m\u001b[0m\u001b[0m\n\u001b[0m\u001b[1;32m      2\u001b[0m \u001b[0mrandom_tensor\u001b[0m\u001b[0;34m\u001b[0m\u001b[0;34m\u001b[0m\u001b[0m\n",
            "\u001b[0;31mTypeError\u001b[0m: 'Tensor' object is not callable"
          ]
        }
      ]
    },
    {
      "cell_type": "code",
      "source": [
        " ## a way to represnet any data is in the form of tensors\n",
        " ## we can describe an image with tensors too of size ([224 , 224 , 3]) height , width and color channels"
      ],
      "metadata": {
        "id": "pIf_j22-S8pH"
      },
      "execution_count": null,
      "outputs": []
    },
    {
      "cell_type": "code",
      "source": [
        "random_image_Size_tensor = torch.rand(size = (3,224,224))\n",
        "random_image_Size_tensor.shape , random_image_Size_tensor.ndim"
      ],
      "metadata": {
        "id": "_Jql2k-QS8sI"
      },
      "execution_count": null,
      "outputs": []
    },
    {
      "cell_type": "markdown",
      "source": [
        "### Zeroes and Ones"
      ],
      "metadata": {
        "id": "pXhNLtcwUIln"
      }
    },
    {
      "cell_type": "code",
      "source": [
        "zeros = torch.zeros(size = (3,4))\n",
        "zeros"
      ],
      "metadata": {
        "id": "pWjXyOgIUKyz"
      },
      "execution_count": null,
      "outputs": []
    },
    {
      "cell_type": "markdown",
      "source": [
        "### craeting range of tensors and tensors-like"
      ],
      "metadata": {
        "id": "uZRGziJ1LU0R"
      }
    },
    {
      "cell_type": "code",
      "source": [
        "tensor = torch.arange(1,11)\n",
        "tensor\n",
        "hello = torch.arange(start = 1 , end = 11 , step = 1)\n",
        "hello"
      ],
      "metadata": {
        "id": "mvEK0FwtLZFM"
      },
      "execution_count": null,
      "outputs": []
    },
    {
      "cell_type": "code",
      "source": [
        "#creating tensor - like\n",
        "ten_zeros = torch.zeros_like(input = hello)\n",
        "ten_zeros\n"
      ],
      "metadata": {
        "id": "LbgbAuxuL_F_"
      },
      "execution_count": null,
      "outputs": []
    },
    {
      "cell_type": "markdown",
      "source": [
        "### tensor datatype\n",
        "\n",
        "**note: ** tensor datatypes is one of the big three big erros you'll run into with pytorch & deeplearning\n",
        "\n",
        "1. tensors not right datatype\n",
        "2. tensors not right shape\n",
        "3. tensors not on the right device"
      ],
      "metadata": {
        "id": "A8G9zObGMfeG"
      }
    },
    {
      "cell_type": "code",
      "source": [
        "float32_tensor = torch.tensor([3.0,4.0,5.0] , dtype = None ,\n",
        "                              device = None,\n",
        "                              requires_grad=False)"
      ],
      "metadata": {
        "id": "F5zLr9yFNvRr"
      },
      "execution_count": null,
      "outputs": []
    },
    {
      "cell_type": "code",
      "source": [
        "float32_tensor.dtype"
      ],
      "metadata": {
        "id": "bam90wB2OJX3"
      },
      "execution_count": null,
      "outputs": []
    },
    {
      "cell_type": "code",
      "source": [
        "float16_tensor = float32_tensor.type(torch.float16)\n",
        "float16_tensor"
      ],
      "metadata": {
        "id": "R78h5BQlOTJp"
      },
      "execution_count": null,
      "outputs": []
    },
    {
      "cell_type": "code",
      "source": [
        "float16_tensor * float32_tensor"
      ],
      "metadata": {
        "id": "GNBsaCZVOpbr"
      },
      "execution_count": null,
      "outputs": []
    },
    {
      "cell_type": "code",
      "source": [
        "int32_tensor = torch.tensor([3,6,9] , dtype = torch.long)\n",
        "int32_tensor"
      ],
      "metadata": {
        "id": "B6YJuKDgOv11"
      },
      "execution_count": null,
      "outputs": []
    },
    {
      "cell_type": "code",
      "source": [
        "float32_tensor * int32_tensor"
      ],
      "metadata": {
        "id": "jBbZBqWXPSkE"
      },
      "execution_count": null,
      "outputs": []
    },
    {
      "cell_type": "code",
      "source": [
        "### getting information from tensors\n",
        "\n",
        "#1 . tensor not right datatype - to do get datatype from a tensor , can use tensor.dtype\n",
        "#2 . tensors not right shape - to get shape from a tensor , can use tensor.shape\n",
        "#3 . tensors not on the right device = to get device from a tensor , can use tensor.device\n"
      ],
      "metadata": {
        "id": "Bf9vnkK2PZHX"
      },
      "execution_count": null,
      "outputs": []
    },
    {
      "cell_type": "code",
      "source": [
        "some_tensor = torch.rand(3,4)"
      ],
      "metadata": {
        "id": "4COFdAHXP1HA"
      },
      "execution_count": null,
      "outputs": []
    },
    {
      "cell_type": "code",
      "source": [
        "print(some_tensor)\n",
        "print(f\"datatype of tensor : {some_tensor.dtype}\")\n",
        "print(f\"shape of tensor : {some_tensor.shape}\")\n",
        "print(f\"device tensor is on : {some_tensor.device}\")"
      ],
      "metadata": {
        "id": "9LlvvjoxQg3U"
      },
      "execution_count": null,
      "outputs": []
    },
    {
      "cell_type": "code",
      "source": [
        "### manipulating tensors ( tensor operation )\n",
        "\n",
        "#tensor opeartion include\n",
        "#1 . addition\n",
        "#2 . subtraction\n",
        "#3 . multiplication (element - wise)\n",
        "#4 . division\n",
        "#5 . matrix multiplication\n",
        "\n"
      ],
      "metadata": {
        "id": "QJSc0N8BQ9CD"
      },
      "execution_count": null,
      "outputs": []
    },
    {
      "cell_type": "code",
      "source": [
        "#create a tensor\n",
        "tensor = torch.tensor([1,2,3])\n",
        "tensor + 10"
      ],
      "metadata": {
        "id": "MW2qo2zGR76t"
      },
      "execution_count": null,
      "outputs": []
    },
    {
      "cell_type": "code",
      "source": [
        "tensor*10"
      ],
      "metadata": {
        "id": "dtpWLMu_SHO9"
      },
      "execution_count": null,
      "outputs": []
    },
    {
      "cell_type": "code",
      "source": [
        "torch.mul(tensor,10)"
      ],
      "metadata": {
        "id": "3tRYBskPSOVJ"
      },
      "execution_count": null,
      "outputs": []
    },
    {
      "cell_type": "code",
      "source": [
        "torch.matmul(tensor,tensor)"
      ],
      "metadata": {
        "id": "lNBl_8WmTmdf"
      },
      "execution_count": null,
      "outputs": []
    },
    {
      "cell_type": "code",
      "source": [
        "%%time\n",
        "value = 0\n",
        "for i in range(len(tensor)) :\n",
        "  value += tensor[i] * tensor[i]\n",
        "\n",
        "print(value)"
      ],
      "metadata": {
        "id": "P-knGnl-UDXI"
      },
      "execution_count": null,
      "outputs": []
    },
    {
      "cell_type": "code",
      "source": [
        "%%time\n",
        "torch.matmul(tensor,tensor)"
      ],
      "metadata": {
        "id": "4qMfzTWrVSIL"
      },
      "execution_count": null,
      "outputs": []
    },
    {
      "cell_type": "code",
      "source": [
        "#shapes for tensor multiplication\n",
        "tensor_A = torch.tensor ([[1,2] , [3,4] , [4,5]])\n",
        "tensor_B = torch.tensor ([[7,8],[9,10],[11,12]])\n",
        "# torch.matmul(tensor_A , tensor_B)\n",
        "#torch.mm is shortfor matrix multiplication (alias)"
      ],
      "metadata": {
        "id": "U8mkt0WfePVW"
      },
      "execution_count": null,
      "outputs": []
    },
    {
      "cell_type": "code",
      "source": [
        "#to fix our tensor shape issues , we can manipulate the shape of one of our tensor susing transpose\n",
        "\n",
        "tensor_B.T , tensor_B.T.shape"
      ],
      "metadata": {
        "id": "Ioss6PH9e9tY"
      },
      "execution_count": null,
      "outputs": []
    },
    {
      "cell_type": "code",
      "source": [
        "torch.matmul(tensor_A , tensor_B.T)"
      ],
      "metadata": {
        "id": "3Ziz-W7_fVLs"
      },
      "execution_count": null,
      "outputs": []
    },
    {
      "cell_type": "code",
      "source": [
        "#finding the min , max , mean , sum , etc (tensor aggregation)\n",
        "\n",
        "x = torch.arange(0,100,10)\n",
        "x"
      ],
      "metadata": {
        "id": "5lvai9-9ffE2"
      },
      "execution_count": null,
      "outputs": []
    },
    {
      "cell_type": "code",
      "source": [
        "torch.min(x) , x.max()"
      ],
      "metadata": {
        "colab": {
          "base_uri": "https://localhost:8080/"
        },
        "id": "QqAeOeNzg4Md",
        "outputId": "7a1cc3a5-49e7-4593-d891-06318b23c619"
      },
      "execution_count": 93,
      "outputs": [
        {
          "output_type": "execute_result",
          "data": {
            "text/plain": [
              "(tensor(1), tensor(9))"
            ]
          },
          "metadata": {},
          "execution_count": 93
        }
      ]
    },
    {
      "cell_type": "code",
      "source": [
        "torch.max(x) , x.min()"
      ],
      "metadata": {
        "colab": {
          "base_uri": "https://localhost:8080/"
        },
        "id": "jVtZ6DQXhSoF",
        "outputId": "ae1eddb3-52fb-49c5-eb64-b257b3c854e1"
      },
      "execution_count": 94,
      "outputs": [
        {
          "output_type": "execute_result",
          "data": {
            "text/plain": [
              "(tensor(9), tensor(1))"
            ]
          },
          "metadata": {},
          "execution_count": 94
        }
      ]
    },
    {
      "cell_type": "code",
      "source": [
        "torch.mean(x.type(torch.float32)) , x.type(torch.float32).mean() # x wont work as it will give datatype error so i changed the datatype to float"
      ],
      "metadata": {
        "colab": {
          "base_uri": "https://localhost:8080/"
        },
        "id": "76mH-YK7hVkH",
        "outputId": "b3216e7e-1ac3-4cf4-adb4-eadb0689e4ac"
      },
      "execution_count": 95,
      "outputs": [
        {
          "output_type": "execute_result",
          "data": {
            "text/plain": [
              "(tensor(5.), tensor(5.))"
            ]
          },
          "metadata": {},
          "execution_count": 95
        }
      ]
    },
    {
      "cell_type": "code",
      "source": [
        "## finding the positional min and max ( what position min and max occur )\n",
        "\n",
        "x.argmin()"
      ],
      "metadata": {
        "colab": {
          "base_uri": "https://localhost:8080/"
        },
        "id": "9XRt2kFAh2Hi",
        "outputId": "4ef576f3-4427-4d2d-cf1b-060092c655bf"
      },
      "execution_count": 96,
      "outputs": [
        {
          "output_type": "execute_result",
          "data": {
            "text/plain": [
              "tensor(0)"
            ]
          },
          "metadata": {},
          "execution_count": 96
        }
      ]
    },
    {
      "cell_type": "code",
      "source": [
        "x.argmax() # gives the index of max or min"
      ],
      "metadata": {
        "colab": {
          "base_uri": "https://localhost:8080/"
        },
        "id": "Jnt0Yqh4h_Vf",
        "outputId": "fe1d5fa4-8abe-4605-98d7-414746cc60a2"
      },
      "execution_count": 97,
      "outputs": [
        {
          "output_type": "execute_result",
          "data": {
            "text/plain": [
              "tensor(8)"
            ]
          },
          "metadata": {},
          "execution_count": 97
        }
      ]
    },
    {
      "cell_type": "code",
      "source": [
        "# reshaping stacking squeezing and unsqueezing\n",
        "\n",
        "# reshaping  - reshapes an input tensor to a defined shape\n",
        "# view - return\n",
        "# stacking - combine multiple tensors on top of each ohter (vstack) or side by side (hstack)\n",
        "# squeeze - removes all '1' dimensions form a tensor\n",
        "# unsqueeze - add a '1' dimesion to a target tensor\n",
        "# permute - return a view of the input with dimesions permuted (swapped) in a certain way\n"
      ],
      "metadata": {
        "id": "XnNEhLsHiSy4"
      },
      "execution_count": 98,
      "outputs": []
    },
    {
      "cell_type": "code",
      "source": [
        "# Let's create a tensor\n",
        "import torch\n",
        "x = torch.arange(1.,10.)\n",
        "x, x.shape"
      ],
      "metadata": {
        "colab": {
          "base_uri": "https://localhost:8080/"
        },
        "id": "m3Pl4P0rjqAa",
        "outputId": "af82ca5d-2850-44a6-82cc-d3642b3c54b8"
      },
      "execution_count": 99,
      "outputs": [
        {
          "output_type": "execute_result",
          "data": {
            "text/plain": [
              "(tensor([1., 2., 3., 4., 5., 6., 7., 8., 9.]), torch.Size([9]))"
            ]
          },
          "metadata": {},
          "execution_count": 99
        }
      ]
    },
    {
      "cell_type": "code",
      "source": [
        "# add extra dimension\n",
        "x_reshaped = x.reshape(9,1)\n",
        "x_reshaped , x_reshaped.shape"
      ],
      "metadata": {
        "colab": {
          "base_uri": "https://localhost:8080/"
        },
        "id": "xLp7o3KNkE6B",
        "outputId": "e4ae54d2-67fe-478c-a91a-f583a3ffb0c4"
      },
      "execution_count": 100,
      "outputs": [
        {
          "output_type": "execute_result",
          "data": {
            "text/plain": [
              "(tensor([[1.],\n",
              "         [2.],\n",
              "         [3.],\n",
              "         [4.],\n",
              "         [5.],\n",
              "         [6.],\n",
              "         [7.],\n",
              "         [8.],\n",
              "         [9.]]),\n",
              " torch.Size([9, 1]))"
            ]
          },
          "metadata": {},
          "execution_count": 100
        }
      ]
    },
    {
      "cell_type": "code",
      "source": [
        "#change the view\n",
        "z = x.view(1,9)\n",
        "z , z.shape"
      ],
      "metadata": {
        "colab": {
          "base_uri": "https://localhost:8080/"
        },
        "id": "6f-DVA_VkeEP",
        "outputId": "b67a65df-fd75-4154-8cda-86682ad67b6f"
      },
      "execution_count": 101,
      "outputs": [
        {
          "output_type": "execute_result",
          "data": {
            "text/plain": [
              "(tensor([[1., 2., 3., 4., 5., 6., 7., 8., 9.]]), torch.Size([1, 9]))"
            ]
          },
          "metadata": {},
          "execution_count": 101
        }
      ]
    },
    {
      "cell_type": "code",
      "source": [
        "# changing z changes x ( because a view of a tensor shares the same memory as the original )\n",
        "z[:, 0] = 5\n",
        "z,x"
      ],
      "metadata": {
        "colab": {
          "base_uri": "https://localhost:8080/"
        },
        "id": "UvBvWWBtksnP",
        "outputId": "f4947101-ed16-4dc5-e419-6db522114978"
      },
      "execution_count": 102,
      "outputs": [
        {
          "output_type": "execute_result",
          "data": {
            "text/plain": [
              "(tensor([[5., 2., 3., 4., 5., 6., 7., 8., 9.]]),\n",
              " tensor([5., 2., 3., 4., 5., 6., 7., 8., 9.]))"
            ]
          },
          "metadata": {},
          "execution_count": 102
        }
      ]
    },
    {
      "cell_type": "code",
      "source": [
        "## indexing ( selecting data from tensors )\n",
        "## indexing with pytorch is similar to indexing with numpy"
      ],
      "metadata": {
        "id": "QegceR23XYLn"
      },
      "execution_count": 103,
      "outputs": []
    },
    {
      "cell_type": "code",
      "source": [
        "# create a tensor\n",
        "import torch\n",
        "x = torch.arange"
      ],
      "metadata": {
        "id": "KkeoOMMGXi7h"
      },
      "execution_count": 104,
      "outputs": []
    },
    {
      "cell_type": "code",
      "source": [
        "## indexing ( selcting data from tensors )\n",
        "\n",
        "import torch\n",
        "x = torch.arange(1,10).reshape(1,3,3)\n",
        "x, x.shape"
      ],
      "metadata": {
        "colab": {
          "base_uri": "https://localhost:8080/"
        },
        "id": "tbwRXOJ0GJmQ",
        "outputId": "3ce1d061-e45b-4251-baa3-a3844655f675"
      },
      "execution_count": 105,
      "outputs": [
        {
          "output_type": "execute_result",
          "data": {
            "text/plain": [
              "(tensor([[[1, 2, 3],\n",
              "          [4, 5, 6],\n",
              "          [7, 8, 9]]]),\n",
              " torch.Size([1, 3, 3]))"
            ]
          },
          "metadata": {},
          "execution_count": 105
        }
      ]
    },
    {
      "cell_type": "code",
      "source": [
        "# let's index on our new tensor\n",
        "x[0]"
      ],
      "metadata": {
        "colab": {
          "base_uri": "https://localhost:8080/"
        },
        "id": "5zxaX_vxGzKw",
        "outputId": "b6c9e949-876b-4c1c-8f93-e33b1c0dd16f"
      },
      "execution_count": 106,
      "outputs": [
        {
          "output_type": "execute_result",
          "data": {
            "text/plain": [
              "tensor([[1, 2, 3],\n",
              "        [4, 5, 6],\n",
              "        [7, 8, 9]])"
            ]
          },
          "metadata": {},
          "execution_count": 106
        }
      ]
    },
    {
      "cell_type": "code",
      "source": [
        "x[0][1][0]"
      ],
      "metadata": {
        "colab": {
          "base_uri": "https://localhost:8080/"
        },
        "id": "1TimKEmdG_w5",
        "outputId": "6beb9d03-0b6c-45ba-9dae-303a734dd8c2"
      },
      "execution_count": 107,
      "outputs": [
        {
          "output_type": "execute_result",
          "data": {
            "text/plain": [
              "tensor(4)"
            ]
          },
          "metadata": {},
          "execution_count": 107
        }
      ]
    },
    {
      "cell_type": "code",
      "source": [
        "# you can use \":\" to select \"all\" of a target dimension\n",
        "x[:,0,:]"
      ],
      "metadata": {
        "colab": {
          "base_uri": "https://localhost:8080/"
        },
        "id": "uAXNRYGGH-eM",
        "outputId": "aca4ad04-466c-4560-ba8d-4b925b1adedb"
      },
      "execution_count": 108,
      "outputs": [
        {
          "output_type": "execute_result",
          "data": {
            "text/plain": [
              "tensor([[1, 2, 3]])"
            ]
          },
          "metadata": {},
          "execution_count": 108
        }
      ]
    },
    {
      "cell_type": "code",
      "source": [
        "# get all values of 0th and 1st dimesion but only index 1 and 2nd dimension\n",
        "x[:,:,1]"
      ],
      "metadata": {
        "colab": {
          "base_uri": "https://localhost:8080/"
        },
        "id": "dIT0XaI7IOXo",
        "outputId": "d2d8deeb-4c62-4207-f7fe-869c500ee365"
      },
      "execution_count": 109,
      "outputs": [
        {
          "output_type": "execute_result",
          "data": {
            "text/plain": [
              "tensor([[2, 5, 8]])"
            ]
          },
          "metadata": {},
          "execution_count": 109
        }
      ]
    },
    {
      "cell_type": "code",
      "source": [
        "# get all values of the 0 dimension but only the 1 index value of 1st and 2nd dimension\n",
        "x[:,1,1]"
      ],
      "metadata": {
        "colab": {
          "base_uri": "https://localhost:8080/"
        },
        "id": "eBOk82NNIiBe",
        "outputId": "51db2ee3-d418-4173-9912-481c62eba99f"
      },
      "execution_count": 110,
      "outputs": [
        {
          "output_type": "execute_result",
          "data": {
            "text/plain": [
              "tensor([5])"
            ]
          },
          "metadata": {},
          "execution_count": 110
        }
      ]
    },
    {
      "cell_type": "markdown",
      "source": [
        "### PyTorch tensors and numpy\n",
        "\n",
        "numpy is a popular scinetific python numerical computing library and because of this, Pytorch has funcationality to interact with it.\n",
        "\n",
        "* Data in Numpy , want in pytorch tensor -> torch.from_numpy(ndarray)\n",
        "*Pytorch tensor -> NumPy -> torch.tensor.numpy()\n",
        "\n",
        "\n"
      ],
      "metadata": {
        "id": "ZOLFQ3D-JoJb"
      }
    },
    {
      "cell_type": "code",
      "source": [
        "# numpy array to tensor\n",
        "import torch\n",
        "import numpy as np\n",
        "\n",
        "array = np.arange(1.0,8.0)\n",
        "tensor = torch.from_numpy(array) #warning :- when coverting from numpy -> pytorch , pytorch reflects numpy's default datatype of float64 unless specified otherwise\n",
        "array,tensor\n"
      ],
      "metadata": {
        "colab": {
          "base_uri": "https://localhost:8080/"
        },
        "id": "pzpWr9nNKFLO",
        "outputId": "20320328-8b09-4e66-e55d-4c83af29a1ff"
      },
      "execution_count": 111,
      "outputs": [
        {
          "output_type": "execute_result",
          "data": {
            "text/plain": [
              "(array([1., 2., 3., 4., 5., 6., 7.]),\n",
              " tensor([1., 2., 3., 4., 5., 6., 7.], dtype=torch.float64))"
            ]
          },
          "metadata": {},
          "execution_count": 111
        }
      ]
    },
    {
      "cell_type": "code",
      "source": [
        "# default datatype of tensor is float32 and default datatype of numpy array is float 64"
      ],
      "metadata": {
        "id": "am1xBxEiKerh"
      },
      "execution_count": 112,
      "outputs": []
    },
    {
      "cell_type": "code",
      "source": [
        "array = array + 1\n",
        "array , tensor"
      ],
      "metadata": {
        "colab": {
          "base_uri": "https://localhost:8080/"
        },
        "id": "cL3dNTZ0KmgN",
        "outputId": "9a3c2de3-e1f7-4464-a9ee-6b4086b052e6"
      },
      "execution_count": 113,
      "outputs": [
        {
          "output_type": "execute_result",
          "data": {
            "text/plain": [
              "(array([2., 3., 4., 5., 6., 7., 8.]),\n",
              " tensor([1., 2., 3., 4., 5., 6., 7.], dtype=torch.float64))"
            ]
          },
          "metadata": {},
          "execution_count": 113
        }
      ]
    },
    {
      "cell_type": "code",
      "source": [
        "#tensor to Numpy array\n",
        "tensor = torch.ones(7)\n",
        "numpy_tensor = tensor.numpy()\n",
        "tensor  , numpy_tensor"
      ],
      "metadata": {
        "colab": {
          "base_uri": "https://localhost:8080/"
        },
        "id": "f6iJXm0cLR7r",
        "outputId": "c00b2855-1217-48fa-bbe6-c0db9f2845df"
      },
      "execution_count": 114,
      "outputs": [
        {
          "output_type": "execute_result",
          "data": {
            "text/plain": [
              "(tensor([1., 1., 1., 1., 1., 1., 1.]),\n",
              " array([1., 1., 1., 1., 1., 1., 1.], dtype=float32))"
            ]
          },
          "metadata": {},
          "execution_count": 114
        }
      ]
    },
    {
      "cell_type": "code",
      "source": [
        "# change the tensor , what happens to 'numpy tensor'\n",
        "tensor = tensor + 1 ;\n",
        "tensor , numpy_tensor"
      ],
      "metadata": {
        "colab": {
          "base_uri": "https://localhost:8080/"
        },
        "id": "t_UwxnSpLkZV",
        "outputId": "70561549-7d3d-4a7c-e5ab-411aa2707eac"
      },
      "execution_count": 115,
      "outputs": [
        {
          "output_type": "execute_result",
          "data": {
            "text/plain": [
              "(tensor([2., 2., 2., 2., 2., 2., 2.]),\n",
              " array([1., 1., 1., 1., 1., 1., 1.], dtype=float32))"
            ]
          },
          "metadata": {},
          "execution_count": 115
        }
      ]
    },
    {
      "cell_type": "markdown",
      "source": [
        "## Reproducibility ( trying to take random out of random )\n",
        "\n",
        "in short how a neural network learns :\n",
        "\n",
        "'start with random numbers -> tensor operations -> update random numbers to try and make them better representations of the data -> again -> again -> again ... '\n",
        "\n",
        "to reduce the randomness in neural network and pytorch comes the concept of a **random seed**\n",
        "\n",
        "essentially what the radom seed does is \"flavor\" the randomness"
      ],
      "metadata": {
        "id": "zajNl1mjMDhe"
      }
    },
    {
      "cell_type": "code",
      "source": [
        "import torch\n",
        "\n",
        "#create two random tensors\n",
        "random_tensor_A = torch.rand(3,4)\n",
        "random_tensor_B= torch.rand(3,4)\n",
        "\n",
        "print(random_tensor_A)\n",
        "print(random_tensor_B)\n",
        "print(random_tensor_A == random_tensor_B)"
      ],
      "metadata": {
        "colab": {
          "base_uri": "https://localhost:8080/",
          "height": 211
        },
        "id": "r8r5k3QfMWb6",
        "outputId": "2ea125d3-6dcf-4534-b039-30493004f18d"
      },
      "execution_count": 116,
      "outputs": [
        {
          "output_type": "error",
          "ename": "TypeError",
          "evalue": "'Tensor' object is not callable",
          "traceback": [
            "\u001b[0;31m---------------------------------------------------------------------------\u001b[0m",
            "\u001b[0;31mTypeError\u001b[0m                                 Traceback (most recent call last)",
            "\u001b[0;32m/tmp/ipython-input-116-965791231.py\u001b[0m in \u001b[0;36m<cell line: 0>\u001b[0;34m()\u001b[0m\n\u001b[1;32m      2\u001b[0m \u001b[0;34m\u001b[0m\u001b[0m\n\u001b[1;32m      3\u001b[0m \u001b[0;31m#create two random tensors\u001b[0m\u001b[0;34m\u001b[0m\u001b[0;34m\u001b[0m\u001b[0m\n\u001b[0;32m----> 4\u001b[0;31m \u001b[0mrandom_tensor_A\u001b[0m \u001b[0;34m=\u001b[0m \u001b[0mtorch\u001b[0m\u001b[0;34m.\u001b[0m\u001b[0mrand\u001b[0m\u001b[0;34m(\u001b[0m\u001b[0;36m3\u001b[0m\u001b[0;34m,\u001b[0m\u001b[0;36m4\u001b[0m\u001b[0;34m)\u001b[0m\u001b[0;34m\u001b[0m\u001b[0;34m\u001b[0m\u001b[0m\n\u001b[0m\u001b[1;32m      5\u001b[0m \u001b[0mrandom_tensor_B\u001b[0m\u001b[0;34m=\u001b[0m \u001b[0mtorch\u001b[0m\u001b[0;34m.\u001b[0m\u001b[0mrand\u001b[0m\u001b[0;34m(\u001b[0m\u001b[0;36m3\u001b[0m\u001b[0;34m,\u001b[0m\u001b[0;36m4\u001b[0m\u001b[0;34m)\u001b[0m\u001b[0;34m\u001b[0m\u001b[0;34m\u001b[0m\u001b[0m\n\u001b[1;32m      6\u001b[0m \u001b[0;34m\u001b[0m\u001b[0m\n",
            "\u001b[0;31mTypeError\u001b[0m: 'Tensor' object is not callable"
          ]
        }
      ]
    },
    {
      "cell_type": "code",
      "source": [
        "# let's make some random but reproducible tensors\n",
        "\n",
        "import torch\n",
        "\n",
        "# set the random seed\n",
        "RANDOM_SEED = 42\n",
        "torch.manual_seed(RANDOM_SEED)\n",
        "random_tesor_C = torch.rand(3,4)\n",
        "\n",
        "torch.manual_seed(RANDOM_SEED)\n",
        "random_tesor_D = torch.rand(3,4)\n",
        "\n",
        "print(random_tesor_C)\n",
        "print(random_tesor_D)\n",
        "print(random_tesor_C == random_tesor_D)"
      ],
      "metadata": {
        "id": "Ly4XFtDhNp-S",
        "colab": {
          "base_uri": "https://localhost:8080/"
        },
        "outputId": "6b4bf13f-4eda-4f08-beba-e3685040fbb0"
      },
      "execution_count": 3,
      "outputs": [
        {
          "output_type": "stream",
          "name": "stdout",
          "text": [
            "tensor([[0.8823, 0.9150, 0.3829, 0.9593],\n",
            "        [0.3904, 0.6009, 0.2566, 0.7936],\n",
            "        [0.9408, 0.1332, 0.9346, 0.5936]])\n",
            "tensor([[0.8823, 0.9150, 0.3829, 0.9593],\n",
            "        [0.3904, 0.6009, 0.2566, 0.7936],\n",
            "        [0.9408, 0.1332, 0.9346, 0.5936]])\n",
            "tensor([[True, True, True, True],\n",
            "        [True, True, True, True],\n",
            "        [True, True, True, True]])\n"
          ]
        }
      ]
    },
    {
      "cell_type": "code",
      "source": [
        "## Running tensors and Pytorch objects on the GPUs ( and making faster computations )\n",
        "\n",
        "## GPUs = faster computation on numbers , thanks to CUDA + NVIDIA hardware + Pytorch working behind the scenes to make everything hunky dory ( good )"
      ],
      "metadata": {
        "id": "khobmKCEdHSG"
      },
      "execution_count": 5,
      "outputs": []
    },
    {
      "cell_type": "code",
      "source": [
        "# check for GPU access with Pytorch\n",
        "import torch\n",
        "torch.cuda.is_available()"
      ],
      "metadata": {
        "colab": {
          "base_uri": "https://localhost:8080/"
        },
        "id": "Fv7-j33Sd68j",
        "outputId": "fe3ee180-0e0b-4981-fe63-406e2885d32e"
      },
      "execution_count": 1,
      "outputs": [
        {
          "output_type": "execute_result",
          "data": {
            "text/plain": [
              "True"
            ]
          },
          "metadata": {},
          "execution_count": 1
        }
      ]
    },
    {
      "cell_type": "code",
      "source": [
        "# Setup device agnostic code\n",
        "device = \"cuda\" if torch.cuda.is_available() else \"cpu\"\n",
        "device"
      ],
      "metadata": {
        "colab": {
          "base_uri": "https://localhost:8080/",
          "height": 35
        },
        "id": "hPeU7hYkfj_v",
        "outputId": "65d62b83-553b-4049-e7de-ef1189c7b3c5"
      },
      "execution_count": 6,
      "outputs": [
        {
          "output_type": "execute_result",
          "data": {
            "text/plain": [
              "'cuda'"
            ],
            "application/vnd.google.colaboratory.intrinsic+json": {
              "type": "string"
            }
          },
          "metadata": {},
          "execution_count": 6
        }
      ]
    },
    {
      "cell_type": "code",
      "source": [
        "#count number of devices\n",
        "torch.cuda.device_count()"
      ],
      "metadata": {
        "colab": {
          "base_uri": "https://localhost:8080/"
        },
        "id": "tNC5u-tGf4mZ",
        "outputId": "6016eaca-7914-4c8f-d95a-2b6dcfdbc335"
      },
      "execution_count": 3,
      "outputs": [
        {
          "output_type": "execute_result",
          "data": {
            "text/plain": [
              "1"
            ]
          },
          "metadata": {},
          "execution_count": 3
        }
      ]
    },
    {
      "cell_type": "code",
      "source": [
        "#create a tensor ( default on the CPU )\n",
        "tensor = torch.tensor([1,2,3])\n",
        "\n",
        "#tensor not on GPU\n",
        "print(tensor , tensor.device)"
      ],
      "metadata": {
        "colab": {
          "base_uri": "https://localhost:8080/"
        },
        "id": "9hcuMHCjf9w0",
        "outputId": "a4d7764c-b3e4-48e7-c16d-ff67bf4e1cd0"
      },
      "execution_count": 5,
      "outputs": [
        {
          "output_type": "stream",
          "name": "stdout",
          "text": [
            "tensor([1, 2, 3]) cpu\n"
          ]
        }
      ]
    },
    {
      "cell_type": "code",
      "source": [
        "# moce tensor to GPU ( if available )\n",
        "tensor_on_GPU = tensor.to(device)\n",
        "tensor_on_GPU\n"
      ],
      "metadata": {
        "colab": {
          "base_uri": "https://localhost:8080/"
        },
        "id": "qrhaB9Mxgkzv",
        "outputId": "868ca74b-3737-435e-c455-e468029758af"
      },
      "execution_count": 7,
      "outputs": [
        {
          "output_type": "execute_result",
          "data": {
            "text/plain": [
              "tensor([1, 2, 3], device='cuda:0')"
            ]
          },
          "metadata": {},
          "execution_count": 7
        }
      ]
    },
    {
      "cell_type": "markdown",
      "source": [
        "### moving tensors back to the CPU"
      ],
      "metadata": {
        "id": "3OWj6bd3g7b7"
      }
    },
    {
      "cell_type": "code",
      "source": [
        "# if tensor is on GPU , can't transform it to NumPy\n",
        "tensor_on_GPU.numpy()"
      ],
      "metadata": {
        "colab": {
          "base_uri": "https://localhost:8080/",
          "height": 158
        },
        "id": "ytUV96KSg_s-",
        "outputId": "bff3cd2b-aa11-4972-d944-f7b6ac670554"
      },
      "execution_count": 8,
      "outputs": [
        {
          "output_type": "error",
          "ename": "TypeError",
          "evalue": "can't convert cuda:0 device type tensor to numpy. Use Tensor.cpu() to copy the tensor to host memory first.",
          "traceback": [
            "\u001b[0;31m---------------------------------------------------------------------------\u001b[0m",
            "\u001b[0;31mTypeError\u001b[0m                                 Traceback (most recent call last)",
            "\u001b[0;32m/tmp/ipython-input-8-1073304162.py\u001b[0m in \u001b[0;36m<cell line: 0>\u001b[0;34m()\u001b[0m\n\u001b[1;32m      1\u001b[0m \u001b[0;31m# if tensor is on GPU , can't transform it to NumPy\u001b[0m\u001b[0;34m\u001b[0m\u001b[0;34m\u001b[0m\u001b[0m\n\u001b[0;32m----> 2\u001b[0;31m \u001b[0mtensor_on_GPU\u001b[0m\u001b[0;34m.\u001b[0m\u001b[0mnumpy\u001b[0m\u001b[0;34m(\u001b[0m\u001b[0;34m)\u001b[0m\u001b[0;34m\u001b[0m\u001b[0;34m\u001b[0m\u001b[0m\n\u001b[0m",
            "\u001b[0;31mTypeError\u001b[0m: can't convert cuda:0 device type tensor to numpy. Use Tensor.cpu() to copy the tensor to host memory first."
          ]
        }
      ]
    },
    {
      "cell_type": "code",
      "source": [
        "#to fix the GPU tensor with Numpy Issue , we can first set it to CPU\n",
        "tensor_back_on_CPU = tensor_on_GPU.cpu().numpy()\n",
        "tensor_back_on_CPU"
      ],
      "metadata": {
        "colab": {
          "base_uri": "https://localhost:8080/"
        },
        "id": "eZDTqfHNhK7S",
        "outputId": "a5894139-37bb-4f96-cea5-45e811f500cd"
      },
      "execution_count": 9,
      "outputs": [
        {
          "output_type": "execute_result",
          "data": {
            "text/plain": [
              "array([1, 2, 3])"
            ]
          },
          "metadata": {},
          "execution_count": 9
        }
      ]
    },
    {
      "cell_type": "code",
      "source": [],
      "metadata": {
        "id": "NVzfrr-AhdL_"
      },
      "execution_count": null,
      "outputs": []
    }
  ]
}